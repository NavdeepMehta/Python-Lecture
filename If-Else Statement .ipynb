{
 "cells": [
  {
   "cell_type": "code",
   "execution_count": 11,
   "id": "1ece8986",
   "metadata": {},
   "outputs": [
    {
     "name": "stdout",
     "output_type": "stream",
     "text": [
      "If you are fit type \"fit\" if not fit type anything Fit\n",
      "You can Play\n"
     ]
    }
   ],
   "source": [
    "# if Else \n",
    "x=input('If you are fit type \"fit\" if not fit type anything ')\n",
    "if x.lower() =='fit':\n",
    "    print('You can Play')\n",
    "else:\n",
    "    print(\"You Can't play\")"
   ]
  },
  {
   "cell_type": "code",
   "execution_count": 17,
   "id": "04c0f030",
   "metadata": {},
   "outputs": [
    {
     "name": "stdout",
     "output_type": "stream",
     "text": [
      "Enter the rupees1552\n",
      "You can book ticket upto 3rd AC Coaches\n"
     ]
    }
   ],
   "source": [
    "#if elif else\n",
    "x=int(input('Enter the rupees'))\n",
    "if x >=3500:\n",
    "    print('You can book ticket upto 1st AC Coaches')\n",
    "elif x < 3500 and x>=2500:\n",
    "    print('You can book ticket upto 2nd AC Coaches')\n",
    "elif x < 2500 and x>=1500:\n",
    "    print('You can book ticket upto 3rd AC Coaches')\n",
    "elif x < 1500 and x>=800:\n",
    "    print('You can book ticket upto Sleeper Coaches')\n",
    "elif x < 800 and x>=350:\n",
    "    print('You can book ticket upto General Coaches')\n",
    "else:\n",
    "    print(\"You have less money You can't book Ticket\")"
   ]
  }
 ],
 "metadata": {
  "kernelspec": {
   "display_name": "Python 3",
   "language": "python",
   "name": "python3"
  },
  "language_info": {
   "codemirror_mode": {
    "name": "ipython",
    "version": 3
   },
   "file_extension": ".py",
   "mimetype": "text/x-python",
   "name": "python",
   "nbconvert_exporter": "python",
   "pygments_lexer": "ipython3",
   "version": "3.8.8"
  }
 },
 "nbformat": 4,
 "nbformat_minor": 5
}
