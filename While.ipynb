{
 "cells": [
  {
   "cell_type": "code",
   "execution_count": 4,
   "id": "167bd090",
   "metadata": {},
   "outputs": [
    {
     "name": "stdout",
     "output_type": "stream",
     "text": [
      "Enter the number45\n",
      "Enter the number if you want to exist press 078\n",
      "Enter the number if you want to exist press 0214\n",
      "Enter the number if you want to exist press 033\n",
      "Enter the number if you want to exist press 0541\n",
      "Enter the number if you want to exist press 025\n",
      "Enter the number if you want to exist press 0452\n",
      "Enter the number if you want to exist press 0124\n",
      "Enter the number if you want to exist press 0984\n",
      "Enter the number if you want to exist press 031\n",
      "Enter the number if you want to exist press 0154\n",
      "Enter the number if you want to exist press 0153\n",
      "Enter the number if you want to exist press 00\n",
      "Sum of all random number = 2834\n"
     ]
    }
   ],
   "source": [
    "# find the sum of n random user number without any limit\n",
    "sum=0\n",
    "n=int(input(\"Enter the number\"))\n",
    "while(n>0):\n",
    "    sum = sum +n\n",
    "    n=int(input(\"Enter the number if you want to exist press 0 = \"))\n",
    "print(f'Sum of all random number = {sum}')    "
   ]
  },
  {
   "cell_type": "code",
   "execution_count": 5,
   "id": "ea7d1266",
   "metadata": {},
   "outputs": [
    {
     "name": "stdout",
     "output_type": "stream",
     "text": [
      "Enter the number2\n",
      "Enter the number if you want to exist press 0 = 3\n",
      "Enter the number if you want to exist press 0 = 4\n",
      "Enter the number if you want to exist press 0 = 5\n",
      "Enter the number if you want to exist press 0 = 6\n",
      "Enter the number if you want to exist press 0 = 7\n",
      "Enter the number if you want to exist press 0 = 8\n",
      "Enter the number if you want to exist press 0 = 9\n",
      "Enter the number if you want to exist press 0 = 10\n",
      "Enter the number if you want to exist press 0 = 11\n",
      "Enter the number if you want to exist press 0 = 12\n",
      "Enter the number if you want to exist press 0 = 13\n",
      "Enter the number if you want to exist press 0 = 14\n",
      "Enter the number if you want to exist press 0 = 15\n",
      "Enter the number if you want to exist press 0 = 16\n",
      "Enter the number if you want to exist press 0 = 17\n",
      "Enter the number if you want to exist press 0 = 18\n",
      "Enter the number if you want to exist press 0 = 19\n",
      "Enter the number if you want to exist press 0 = 20\n",
      "Enter the number if you want to exist press 0 = 21\n",
      "Enter the number if you want to exist press 0 = 22\n",
      "Enter the number if you want to exist press 0 = 23\n",
      "Enter the number if you want to exist press 0 = 24\n",
      "Enter the number if you want to exist press 0 = 25\n",
      "Enter the number if you want to exist press 0 = 26\n",
      "Enter the number if you want to exist press 0 = 27\n",
      "Enter the number if you want to exist press 0 = 28\n",
      "Enter the number if you want to exist press 0 = 29\n",
      "Enter the number if you want to exist press 0 = 30\n",
      "Enter the number if you want to exist press 0 = 0\n",
      "['2*2=4', '3*3=9', '4*4=16', '5*5=25', '6*6=36', '7*7=49', '8*8=64', '9*9=81', '10*10=100', '11*11=121', '12*12=144', '13*13=169', '14*14=196', '15*15=225', '16*16=256', '17*17=289', '18*18=324', '19*19=361', '20*20=400', '21*21=441', '22*22=484', '23*23=529', '24*24=576', '25*25=625', '26*26=676', '27*27=729', '28*28=784', '29*29=841', '30*30=900']\n"
     ]
    }
   ],
   "source": [
    "# find the square of n random user number without any limit and store in list and print at last\n",
    "lst=[]\n",
    "square=0\n",
    "n=int(input(\"Enter the number\"))\n",
    "while(n>0):\n",
    "    square = n*n\n",
    "    lst.append(f'{n}*{n}={square}')\n",
    "    n=int(input(\"Enter the number if you want to exist press 0 = \"))\n",
    "print(lst)    "
   ]
  },
  {
   "cell_type": "code",
   "execution_count": 6,
   "id": "6805466b",
   "metadata": {},
   "outputs": [
    {
     "data": {
      "text/plain": [
       "str"
      ]
     },
     "execution_count": 6,
     "metadata": {},
     "output_type": "execute_result"
    }
   ],
   "source": [
    "type(lst[0])"
   ]
  },
  {
   "cell_type": "code",
   "execution_count": null,
   "id": "68fdaa6c",
   "metadata": {},
   "outputs": [],
   "source": []
  }
 ],
 "metadata": {
  "kernelspec": {
   "display_name": "Python 3",
   "language": "python",
   "name": "python3"
  },
  "language_info": {
   "codemirror_mode": {
    "name": "ipython",
    "version": 3
   },
   "file_extension": ".py",
   "mimetype": "text/x-python",
   "name": "python",
   "nbconvert_exporter": "python",
   "pygments_lexer": "ipython3",
   "version": "3.8.8"
  }
 },
 "nbformat": 4,
 "nbformat_minor": 5
}
