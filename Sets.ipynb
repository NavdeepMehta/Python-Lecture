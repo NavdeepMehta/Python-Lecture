{
 "cells": [
  {
   "cell_type": "code",
   "execution_count": 7,
   "id": "64cf01a5",
   "metadata": {},
   "outputs": [],
   "source": [
    "# Define Sets\n",
    "s = set()"
   ]
  },
  {
   "cell_type": "code",
   "execution_count": 8,
   "id": "288b6ad0",
   "metadata": {},
   "outputs": [],
   "source": [
    "# Input value in Sets\n",
    "s = {1,2,3,2,1,4,6,7,4,7,6}"
   ]
  },
  {
   "cell_type": "code",
   "execution_count": 9,
   "id": "fecdb20d",
   "metadata": {},
   "outputs": [
    {
     "data": {
      "text/plain": [
       "{1, 2, 3, 4, 6, 7}"
      ]
     },
     "execution_count": 9,
     "metadata": {},
     "output_type": "execute_result"
    }
   ],
   "source": [
    "s"
   ]
  },
  {
   "cell_type": "code",
   "execution_count": 12,
   "id": "bbded0e4",
   "metadata": {},
   "outputs": [],
   "source": [
    "# Add elements in set\n",
    "s.add(8)"
   ]
  },
  {
   "cell_type": "code",
   "execution_count": 13,
   "id": "f9a00fc4",
   "metadata": {},
   "outputs": [
    {
     "data": {
      "text/plain": [
       "{1, 2, 3, 4, 6, 7, 8}"
      ]
     },
     "execution_count": 13,
     "metadata": {},
     "output_type": "execute_result"
    }
   ],
   "source": [
    "s"
   ]
  },
  {
   "cell_type": "code",
   "execution_count": 14,
   "id": "6578f1a0",
   "metadata": {},
   "outputs": [],
   "source": [
    "# Remove elements in set\n",
    "s.remove(1)"
   ]
  },
  {
   "cell_type": "code",
   "execution_count": 15,
   "id": "786875d3",
   "metadata": {},
   "outputs": [
    {
     "data": {
      "text/plain": [
       "{2, 3, 4, 6, 7, 8}"
      ]
     },
     "execution_count": 15,
     "metadata": {},
     "output_type": "execute_result"
    }
   ],
   "source": [
    "s"
   ]
  },
  {
   "cell_type": "code",
   "execution_count": 16,
   "id": "a3e3e7f1",
   "metadata": {},
   "outputs": [],
   "source": [
    "s1 = set()\n",
    "s1 = {1,5,9,10,2,3}"
   ]
  },
  {
   "cell_type": "code",
   "execution_count": 17,
   "id": "e03a7a40",
   "metadata": {},
   "outputs": [
    {
     "data": {
      "text/plain": [
       "{1, 5, 9, 10}"
      ]
     },
     "execution_count": 17,
     "metadata": {},
     "output_type": "execute_result"
    }
   ],
   "source": [
    "# Value present in S1 but not in S\n",
    "s1.difference(s)"
   ]
  },
  {
   "cell_type": "code",
   "execution_count": 18,
   "id": "13f2031a",
   "metadata": {},
   "outputs": [
    {
     "data": {
      "text/plain": [
       "{2, 3}"
      ]
     },
     "execution_count": 18,
     "metadata": {},
     "output_type": "execute_result"
    }
   ],
   "source": [
    "# Common in both set\n",
    "s1.intersection(s)"
   ]
  },
  {
   "cell_type": "code",
   "execution_count": 19,
   "id": "50f6ed74",
   "metadata": {},
   "outputs": [
    {
     "data": {
      "text/plain": [
       "{1, 2, 3, 4, 5, 6, 7, 8, 9, 10}"
      ]
     },
     "execution_count": 19,
     "metadata": {},
     "output_type": "execute_result"
    }
   ],
   "source": [
    "# Value unique in both set\n",
    "s1.union(s)"
   ]
  },
  {
   "cell_type": "code",
   "execution_count": null,
   "id": "fd8bbda8",
   "metadata": {},
   "outputs": [],
   "source": []
  }
 ],
 "metadata": {
  "kernelspec": {
   "display_name": "Python 3",
   "language": "python",
   "name": "python3"
  },
  "language_info": {
   "codemirror_mode": {
    "name": "ipython",
    "version": 3
   },
   "file_extension": ".py",
   "mimetype": "text/x-python",
   "name": "python",
   "nbconvert_exporter": "python",
   "pygments_lexer": "ipython3",
   "version": "3.8.8"
  }
 },
 "nbformat": 4,
 "nbformat_minor": 5
}
