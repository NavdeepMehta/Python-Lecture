{
 "cells": [
  {
   "cell_type": "code",
   "execution_count": 1,
   "id": "082513f9",
   "metadata": {},
   "outputs": [],
   "source": [
    "class laptop:\n",
    "    def watch_video(self):\n",
    "        return \"Watching Video\"\n",
    "# Making a method\n",
    "    def play_game(self):\n",
    "        return \"Playing Game\"\n"
   ]
  },
  {
   "cell_type": "code",
   "execution_count": 2,
   "id": "58f67496",
   "metadata": {},
   "outputs": [],
   "source": [
    "#Creating Object #l1= name of instance #instance of laptop class.\n",
    "l1=laptop()"
   ]
  },
  {
   "cell_type": "code",
   "execution_count": 3,
   "id": "4ab867df",
   "metadata": {},
   "outputs": [
    {
     "data": {
      "text/plain": [
       "'Playing Game'"
      ]
     },
     "execution_count": 3,
     "metadata": {},
     "output_type": "execute_result"
    }
   ],
   "source": [
    "#invoke the method\n",
    "l1.play_game()"
   ]
  },
  {
   "cell_type": "code",
   "execution_count": 4,
   "id": "9dbe3011",
   "metadata": {},
   "outputs": [
    {
     "data": {
      "text/plain": [
       "'Watching Video'"
      ]
     },
     "execution_count": 4,
     "metadata": {},
     "output_type": "execute_result"
    }
   ],
   "source": [
    "l1.watch_video()"
   ]
  },
  {
   "cell_type": "code",
   "execution_count": 32,
   "id": "4b81a84b",
   "metadata": {},
   "outputs": [],
   "source": [
    "#Adding Parameters\n",
    "class laptop:\n",
    "    def price(self,price):\n",
    "        self.price = price\n",
    "    def company(self,comp):\n",
    "        self.company = comp\n",
    "    def show_price(self):\n",
    "        return f'Price of laptop is {self.price}'\n",
    "    def show_company(self):\n",
    "        return self.company\n",
    "    def watch_video(self):\n",
    "        return \"Watching Video\"\n",
    "    def play_game(self):\n",
    "        return \"Playing Game\""
   ]
  },
  {
   "cell_type": "code",
   "execution_count": 33,
   "id": "8ef20bea",
   "metadata": {},
   "outputs": [],
   "source": [
    "l2=laptop()"
   ]
  },
  {
   "cell_type": "code",
   "execution_count": 34,
   "id": "80626e3c",
   "metadata": {},
   "outputs": [],
   "source": [
    "l2.price(50000)"
   ]
  },
  {
   "cell_type": "code",
   "execution_count": 35,
   "id": "1169e9bb",
   "metadata": {},
   "outputs": [],
   "source": [
    "l2.company(\"DELL\")"
   ]
  },
  {
   "cell_type": "code",
   "execution_count": 36,
   "id": "a8067416",
   "metadata": {},
   "outputs": [
    {
     "data": {
      "text/plain": [
       "'Price of laptop is 50000'"
      ]
     },
     "execution_count": 36,
     "metadata": {},
     "output_type": "execute_result"
    }
   ],
   "source": [
    "l2.show_price()"
   ]
  },
  {
   "cell_type": "code",
   "execution_count": 37,
   "id": "5f899a72",
   "metadata": {},
   "outputs": [
    {
     "data": {
      "text/plain": [
       "'DELL'"
      ]
     },
     "execution_count": 37,
     "metadata": {},
     "output_type": "execute_result"
    }
   ],
   "source": [
    "l2.show_company()"
   ]
  },
  {
   "cell_type": "code",
   "execution_count": 38,
   "id": "7f72573b",
   "metadata": {},
   "outputs": [
    {
     "data": {
      "text/plain": [
       "'Watching Video'"
      ]
     },
     "execution_count": 38,
     "metadata": {},
     "output_type": "execute_result"
    }
   ],
   "source": [
    "l2.watch_video()"
   ]
  },
  {
   "cell_type": "code",
   "execution_count": 39,
   "id": "594a6b9e",
   "metadata": {},
   "outputs": [
    {
     "data": {
      "text/plain": [
       "'Playing Game'"
      ]
     },
     "execution_count": 39,
     "metadata": {},
     "output_type": "execute_result"
    }
   ],
   "source": [
    "l2.play_game()"
   ]
  },
  {
   "cell_type": "code",
   "execution_count": 40,
   "id": "56112df4",
   "metadata": {},
   "outputs": [],
   "source": [
    "l3=laptop()"
   ]
  },
  {
   "cell_type": "code",
   "execution_count": 41,
   "id": "d8e0a682",
   "metadata": {},
   "outputs": [],
   "source": [
    "l3.price(90000)"
   ]
  },
  {
   "cell_type": "code",
   "execution_count": 42,
   "id": "24e77d1c",
   "metadata": {},
   "outputs": [],
   "source": [
    "l3.company('APPLE')"
   ]
  },
  {
   "cell_type": "code",
   "execution_count": 43,
   "id": "de109582",
   "metadata": {},
   "outputs": [
    {
     "data": {
      "text/plain": [
       "'Price of laptop is 50000'"
      ]
     },
     "execution_count": 43,
     "metadata": {},
     "output_type": "execute_result"
    }
   ],
   "source": [
    "l2.show_price()"
   ]
  },
  {
   "cell_type": "code",
   "execution_count": 44,
   "id": "6887d4a7",
   "metadata": {},
   "outputs": [
    {
     "data": {
      "text/plain": [
       "'APPLE'"
      ]
     },
     "execution_count": 44,
     "metadata": {},
     "output_type": "execute_result"
    }
   ],
   "source": [
    "l3.show_company()"
   ]
  },
  {
   "cell_type": "code",
   "execution_count": null,
   "id": "ce339257",
   "metadata": {},
   "outputs": [],
   "source": []
  }
 ],
 "metadata": {
  "kernelspec": {
   "display_name": "Python 3",
   "language": "python",
   "name": "python3"
  },
  "language_info": {
   "codemirror_mode": {
    "name": "ipython",
    "version": 3
   },
   "file_extension": ".py",
   "mimetype": "text/x-python",
   "name": "python",
   "nbconvert_exporter": "python",
   "pygments_lexer": "ipython3",
   "version": "3.8.8"
  }
 },
 "nbformat": 4,
 "nbformat_minor": 5
}
