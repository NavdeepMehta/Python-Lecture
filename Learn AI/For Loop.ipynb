{
 "cells": [
  {
   "cell_type": "markdown",
   "id": "b8915d2e",
   "metadata": {},
   "source": [
    "#### A for loop is used for iterating over a sequence\n",
    "\n",
    "#### This word is used to repeat a task multiple times."
   ]
  },
  {
   "cell_type": "code",
   "execution_count": 1,
   "id": "46937997",
   "metadata": {},
   "outputs": [
    {
     "name": "stdout",
     "output_type": "stream",
     "text": [
      "1\n",
      "Navdeep\n",
      "True\n",
      "Learn AI\n"
     ]
    }
   ],
   "source": [
    "#Table of 2\n",
    "lst=[1,'Navdeep',True,'Learn AI']\n",
    "for i in lst:\n",
    "    print(i)"
   ]
  },
  {
   "cell_type": "code",
   "execution_count": 8,
   "id": "a3bbba9c",
   "metadata": {},
   "outputs": [
    {
     "name": "stdout",
     "output_type": "stream",
     "text": [
      "20\n",
      "0 = 0\n",
      "1 = 1\n",
      "2 = 4\n",
      "3 = 9\n",
      "4 = 16\n",
      "5 = 25\n",
      "6 = 36\n",
      "7 = 49\n",
      "8 = 64\n",
      "9 = 81\n",
      "10 = 100\n",
      "11 = 121\n",
      "12 = 144\n",
      "13 = 169\n",
      "14 = 196\n",
      "15 = 225\n",
      "16 = 256\n",
      "17 = 289\n",
      "18 = 324\n",
      "19 = 361\n",
      "20 = 400\n"
     ]
    }
   ],
   "source": [
    "# Print quare upto n digit\n",
    "#n= 20 it go from (0to 19)\n",
    "n=int(input())\n",
    "for i in range(n+1):\n",
    "    print(f'{i} = {i*i}')"
   ]
  },
  {
   "cell_type": "code",
   "execution_count": 11,
   "id": "d68072a5",
   "metadata": {},
   "outputs": [
    {
     "name": "stdout",
     "output_type": "stream",
     "text": [
      "Enter the number you want to print table67\n",
      "Enter the range of table20\n",
      "67*1 = 67\n",
      "67*2 = 134\n",
      "67*3 = 201\n",
      "67*4 = 268\n",
      "67*5 = 335\n",
      "67*6 = 402\n",
      "67*7 = 469\n",
      "67*8 = 536\n",
      "67*9 = 603\n",
      "67*10 = 670\n",
      "67*11 = 737\n",
      "67*12 = 804\n",
      "67*13 = 871\n",
      "67*14 = 938\n",
      "67*15 = 1005\n",
      "67*16 = 1072\n",
      "67*17 = 1139\n",
      "67*18 = 1206\n",
      "67*19 = 1273\n",
      "67*20 = 1340\n"
     ]
    }
   ],
   "source": [
    "# write table\n",
    "n=int(input(\"Enter the number you want to print table\"))\n",
    "j=int(input(\"Enter the range of table\"))\n",
    "for i in range(1,j+1):\n",
    "    print(f'{n}*{i} = {n*i}')"
   ]
  },
  {
   "cell_type": "code",
   "execution_count": 12,
   "id": "557bf995",
   "metadata": {},
   "outputs": [
    {
     "name": "stdout",
     "output_type": "stream",
     "text": [
      "Enter the last odd number49\n",
      "1\n",
      "3\n",
      "5\n",
      "7\n",
      "9\n",
      "11\n",
      "13\n",
      "15\n",
      "17\n",
      "19\n",
      "21\n",
      "23\n",
      "25\n",
      "27\n",
      "29\n",
      "31\n",
      "33\n",
      "35\n",
      "37\n",
      "39\n",
      "41\n",
      "43\n",
      "45\n",
      "47\n",
      "49\n"
     ]
    }
   ],
   "source": [
    "#First n odd number\n",
    "n=int(input('Enter the last odd number'))\n",
    "for i in range(1,n+1,2):\n",
    "    print(i)"
   ]
  },
  {
   "cell_type": "code",
   "execution_count": null,
   "id": "59815362",
   "metadata": {},
   "outputs": [],
   "source": []
  }
 ],
 "metadata": {
  "kernelspec": {
   "display_name": "Python 3",
   "language": "python",
   "name": "python3"
  },
  "language_info": {
   "codemirror_mode": {
    "name": "ipython",
    "version": 3
   },
   "file_extension": ".py",
   "mimetype": "text/x-python",
   "name": "python",
   "nbconvert_exporter": "python",
   "pygments_lexer": "ipython3",
   "version": "3.8.8"
  }
 },
 "nbformat": 4,
 "nbformat_minor": 5
}
