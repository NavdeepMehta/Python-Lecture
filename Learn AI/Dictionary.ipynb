{
 "cells": [
  {
   "cell_type": "markdown",
   "id": "1e22c47e",
   "metadata": {},
   "source": [
    "#### Dictionary = It is an unorderd collection of key value pairs.\n",
    "#### It is enclosed under curly brackets."
   ]
  },
  {
   "cell_type": "code",
   "execution_count": 23,
   "id": "415774a0",
   "metadata": {},
   "outputs": [],
   "source": [
    "dic ={'Math':50, 'Machine Learning': 90, 'Deep Learning': 80}"
   ]
  },
  {
   "cell_type": "code",
   "execution_count": 24,
   "id": "22cd085e",
   "metadata": {},
   "outputs": [
    {
     "data": {
      "text/plain": [
       "dict_keys(['Math', 'Machine Learning', 'Deep Learning'])"
      ]
     },
     "execution_count": 24,
     "metadata": {},
     "output_type": "execute_result"
    }
   ],
   "source": [
    "# Print keys\n",
    "dic.keys()"
   ]
  },
  {
   "cell_type": "code",
   "execution_count": 25,
   "id": "ee21d8a5",
   "metadata": {},
   "outputs": [
    {
     "data": {
      "text/plain": [
       "dict_values([50, 90, 80])"
      ]
     },
     "execution_count": 25,
     "metadata": {},
     "output_type": "execute_result"
    }
   ],
   "source": [
    "# Print Values\n",
    "dic.values()"
   ]
  },
  {
   "cell_type": "code",
   "execution_count": 26,
   "id": "07202e88",
   "metadata": {},
   "outputs": [],
   "source": [
    "#Update value in dic using key\n",
    "dic['Math'] = 90"
   ]
  },
  {
   "cell_type": "code",
   "execution_count": 27,
   "id": "f23b3128",
   "metadata": {},
   "outputs": [
    {
     "data": {
      "text/plain": [
       "{'Math': 90, 'Machine Learning': 90, 'Deep Learning': 80}"
      ]
     },
     "execution_count": 27,
     "metadata": {},
     "output_type": "execute_result"
    }
   ],
   "source": [
    "dic"
   ]
  },
  {
   "cell_type": "code",
   "execution_count": 30,
   "id": "33d2f59f",
   "metadata": {},
   "outputs": [],
   "source": [
    "# Add new key and value in dictionary\n",
    "dic['Python'] = 99"
   ]
  },
  {
   "cell_type": "code",
   "execution_count": 31,
   "id": "0d9acd22",
   "metadata": {},
   "outputs": [
    {
     "data": {
      "text/plain": [
       "{'Math': 90, 'Machine Learning': 90, 'Deep Learning': 80, 'Python': 99}"
      ]
     },
     "execution_count": 31,
     "metadata": {},
     "output_type": "execute_result"
    }
   ],
   "source": [
    "dic"
   ]
  },
  {
   "cell_type": "code",
   "execution_count": 32,
   "id": "e4a051e8",
   "metadata": {},
   "outputs": [],
   "source": [
    "dic2 = {'OpenCV':85, 'NLP':70}"
   ]
  },
  {
   "cell_type": "code",
   "execution_count": 33,
   "id": "16f47142",
   "metadata": {},
   "outputs": [],
   "source": [
    "# Merage two dic\n",
    "dic.update(dic2)"
   ]
  },
  {
   "cell_type": "code",
   "execution_count": 35,
   "id": "e3680367",
   "metadata": {},
   "outputs": [
    {
     "name": "stdout",
     "output_type": "stream",
     "text": [
      "{'Math': 90, 'Machine Learning': 90, 'Deep Learning': 80, 'Python': 99, 'OpenCV': 85, 'NLP': 70}\n"
     ]
    }
   ],
   "source": [
    "print(dic)"
   ]
  },
  {
   "cell_type": "code",
   "execution_count": 36,
   "id": "6f925b84",
   "metadata": {},
   "outputs": [
    {
     "name": "stdout",
     "output_type": "stream",
     "text": [
      "Math\n",
      "Machine Learning\n",
      "Deep Learning\n",
      "Python\n",
      "OpenCV\n",
      "NLP\n"
     ]
    }
   ],
   "source": [
    "# Print all key\n",
    "for i in dic:\n",
    "    print(i)"
   ]
  },
  {
   "cell_type": "code",
   "execution_count": 37,
   "id": "8defbda8",
   "metadata": {},
   "outputs": [
    {
     "name": "stdout",
     "output_type": "stream",
     "text": [
      "90\n",
      "90\n",
      "80\n",
      "99\n",
      "85\n",
      "70\n"
     ]
    }
   ],
   "source": [
    "# Print all value\n",
    "for i in dic.values():\n",
    "    print(i)"
   ]
  },
  {
   "cell_type": "code",
   "execution_count": 38,
   "id": "f47d117e",
   "metadata": {},
   "outputs": [
    {
     "name": "stdout",
     "output_type": "stream",
     "text": [
      "('Math', 90)\n",
      "('Machine Learning', 90)\n",
      "('Deep Learning', 80)\n",
      "('Python', 99)\n",
      "('OpenCV', 85)\n",
      "('NLP', 70)\n"
     ]
    }
   ],
   "source": [
    "# Print all key along with values\n",
    "for i in dic.items():\n",
    "    print(i)"
   ]
  },
  {
   "cell_type": "code",
   "execution_count": 39,
   "id": "d4fce554",
   "metadata": {},
   "outputs": [],
   "source": [
    "language1 = {'python':1991}\n",
    "language2 = {'R':1993}\n",
    "Language_Type = {'Lang':language1,'Language':language2}"
   ]
  },
  {
   "cell_type": "code",
   "execution_count": 41,
   "id": "af7c37dd",
   "metadata": {},
   "outputs": [
    {
     "name": "stdout",
     "output_type": "stream",
     "text": [
      "{'python': 1991}\n"
     ]
    }
   ],
   "source": [
    "print(Language_Type['Lang'])"
   ]
  },
  {
   "cell_type": "code",
   "execution_count": 42,
   "id": "c02fd7c8",
   "metadata": {},
   "outputs": [
    {
     "data": {
      "text/plain": [
       "90"
      ]
     },
     "execution_count": 42,
     "metadata": {},
     "output_type": "execute_result"
    }
   ],
   "source": [
    "dic.pop('Math')"
   ]
  },
  {
   "cell_type": "code",
   "execution_count": 43,
   "id": "ce980e95",
   "metadata": {},
   "outputs": [
    {
     "data": {
      "text/plain": [
       "{'Machine Learning': 90,\n",
       " 'Deep Learning': 80,\n",
       " 'Python': 99,\n",
       " 'OpenCV': 85,\n",
       " 'NLP': 70}"
      ]
     },
     "execution_count": 43,
     "metadata": {},
     "output_type": "execute_result"
    }
   ],
   "source": [
    "dic"
   ]
  },
  {
   "cell_type": "code",
   "execution_count": null,
   "id": "b5c761ce",
   "metadata": {},
   "outputs": [],
   "source": []
  }
 ],
 "metadata": {
  "kernelspec": {
   "display_name": "Python 3",
   "language": "python",
   "name": "python3"
  },
  "language_info": {
   "codemirror_mode": {
    "name": "ipython",
    "version": 3
   },
   "file_extension": ".py",
   "mimetype": "text/x-python",
   "name": "python",
   "nbconvert_exporter": "python",
   "pygments_lexer": "ipython3",
   "version": "3.8.8"
  }
 },
 "nbformat": 4,
 "nbformat_minor": 5
}
