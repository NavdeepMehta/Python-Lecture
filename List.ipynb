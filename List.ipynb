{
 "cells": [
  {
   "cell_type": "markdown",
   "id": "e1181c2d",
   "metadata": {},
   "source": [
    "#### List -  It is an ordered collection of elements.\n",
    "#### It is represented by Sqaure Brackets [ ].\n",
    "#### It is mutabe means we can update or edit the value of elements present in it."
   ]
  },
  {
   "cell_type": "code",
   "execution_count": 44,
   "id": "e9c64647",
   "metadata": {},
   "outputs": [],
   "source": [
    "# Define a list\n",
    "lst=[1,'Navdeep',True,'Learn AI']"
   ]
  },
  {
   "cell_type": "code",
   "execution_count": 45,
   "id": "4f24bec6",
   "metadata": {},
   "outputs": [],
   "source": [
    "# Add elemnts in list\n",
    "lst.append('Mehta')"
   ]
  },
  {
   "cell_type": "code",
   "execution_count": 46,
   "id": "a0f4c18d",
   "metadata": {},
   "outputs": [
    {
     "data": {
      "text/plain": [
       "[1, 'Navdeep', True, 'Learn AI', 'Mehta']"
      ]
     },
     "execution_count": 46,
     "metadata": {},
     "output_type": "execute_result"
    }
   ],
   "source": [
    "lst"
   ]
  },
  {
   "cell_type": "code",
   "execution_count": 47,
   "id": "5378a0cd",
   "metadata": {},
   "outputs": [
    {
     "name": "stdout",
     "output_type": "stream",
     "text": [
      "[1, 'Navdeep', True, 'Learn AI', 'Mehta', ['Machine Learning', 'Deep Learning']]\n"
     ]
    }
   ],
   "source": [
    "lst1=['Machine Learning','Deep Learning']\n",
    "lst.append(lst1)\n",
    "print(lst)"
   ]
  },
  {
   "cell_type": "code",
   "execution_count": 49,
   "id": "1486fbb3",
   "metadata": {},
   "outputs": [],
   "source": [
    "# Append each character as you iterate over the string.\n",
    "lst=[1,'Navdeep',True,'Learn AI']\n",
    "lst.extend('Mehta')"
   ]
  },
  {
   "cell_type": "code",
   "execution_count": 50,
   "id": "878df6f6",
   "metadata": {},
   "outputs": [
    {
     "data": {
      "text/plain": [
       "[1, 'Navdeep', True, 'Learn AI', 'M', 'e', 'h', 't', 'a']"
      ]
     },
     "execution_count": 50,
     "metadata": {},
     "output_type": "execute_result"
    }
   ],
   "source": [
    "lst"
   ]
  },
  {
   "cell_type": "code",
   "execution_count": 43,
   "id": "5233c024",
   "metadata": {},
   "outputs": [
    {
     "name": "stdout",
     "output_type": "stream",
     "text": [
      "[1, 'Navdeep', True, 'Learn AI', 'Mehta', 'M', 'e', 'h', 't', 'a', 'Ram', 'Eats', 'Mango', 'Ram', 'Eats', 'Mango']\n"
     ]
    }
   ],
   "source": [
    "lst1=['Machine Learning','Deep Learning']\n",
    "lst.extend(lst1)\n",
    "print(lst)"
   ]
  },
  {
   "cell_type": "code",
   "execution_count": 58,
   "id": "b476df84",
   "metadata": {},
   "outputs": [
    {
     "data": {
      "text/plain": [
       "'Learn AI'"
      ]
     },
     "execution_count": 58,
     "metadata": {},
     "output_type": "execute_result"
    }
   ],
   "source": [
    "# pop() used to delete element\n",
    "lst=[1,'Navdeep',True,'Learn AI']\n",
    "lst.pop()"
   ]
  },
  {
   "cell_type": "code",
   "execution_count": 59,
   "id": "ca5c46c6",
   "metadata": {},
   "outputs": [
    {
     "data": {
      "text/plain": [
       "'Navdeep'"
      ]
     },
     "execution_count": 59,
     "metadata": {},
     "output_type": "execute_result"
    }
   ],
   "source": [
    "# pop() used to delete element using index number\n",
    "lst=[1,'Navdeep',True,'Learn AI']\n",
    "lst.pop(1)"
   ]
  },
  {
   "cell_type": "code",
   "execution_count": 63,
   "id": "7f58daa1",
   "metadata": {},
   "outputs": [],
   "source": [
    "# Replace elements using index number\n",
    "lst=[1,'Navdeep',True,'Learn AI']\n",
    "lst[0] = 'Artifical Intelligance'"
   ]
  },
  {
   "cell_type": "code",
   "execution_count": 64,
   "id": "ee044643",
   "metadata": {},
   "outputs": [
    {
     "data": {
      "text/plain": [
       "['Artifical Intelligance', 'Navdeep', True, 'Learn AI']"
      ]
     },
     "execution_count": 64,
     "metadata": {},
     "output_type": "execute_result"
    }
   ],
   "source": [
    "lst"
   ]
  },
  {
   "cell_type": "code",
   "execution_count": 65,
   "id": "399cce26",
   "metadata": {},
   "outputs": [],
   "source": [
    "# reverse() for reversing the list\n",
    "lst=[1,'Navdeep',True,'Learn AI']\n",
    "lst.reverse()"
   ]
  },
  {
   "cell_type": "code",
   "execution_count": 66,
   "id": "fab2238c",
   "metadata": {},
   "outputs": [
    {
     "data": {
      "text/plain": [
       "['Learn AI', True, 'Navdeep', 1]"
      ]
     },
     "execution_count": 66,
     "metadata": {},
     "output_type": "execute_result"
    }
   ],
   "source": [
    "lst"
   ]
  },
  {
   "cell_type": "code",
   "execution_count": 69,
   "id": "b7445f8f",
   "metadata": {},
   "outputs": [
    {
     "ename": "AttributeError",
     "evalue": "'str' object has no attribute 'reverse'",
     "output_type": "error",
     "traceback": [
      "\u001b[1;31m---------------------------------------------------------------------------\u001b[0m",
      "\u001b[1;31mAttributeError\u001b[0m                            Traceback (most recent call last)",
      "\u001b[1;32m<ipython-input-69-9022b22d80f9>\u001b[0m in \u001b[0;36m<module>\u001b[1;34m\u001b[0m\n\u001b[1;32m----> 1\u001b[1;33m \u001b[0mlst\u001b[0m\u001b[1;33m[\u001b[0m\u001b[1;36m2\u001b[0m\u001b[1;33m]\u001b[0m\u001b[1;33m.\u001b[0m\u001b[0mreverse\u001b[0m\u001b[1;33m(\u001b[0m\u001b[1;33m)\u001b[0m\u001b[1;33m\u001b[0m\u001b[1;33m\u001b[0m\u001b[0m\n\u001b[0m",
      "\u001b[1;31mAttributeError\u001b[0m: 'str' object has no attribute 'reverse'"
     ]
    }
   ],
   "source": [
    "lst[2].reverse()"
   ]
  },
  {
   "cell_type": "code",
   "execution_count": 71,
   "id": "a5543320",
   "metadata": {},
   "outputs": [
    {
     "data": {
      "text/plain": [
       "str"
      ]
     },
     "execution_count": 71,
     "metadata": {},
     "output_type": "execute_result"
    }
   ],
   "source": [
    "type(lst[2])"
   ]
  },
  {
   "cell_type": "code",
   "execution_count": 76,
   "id": "3ac09082",
   "metadata": {},
   "outputs": [
    {
     "data": {
      "text/plain": [
       "['NAVDEEP', 'NavDeep', 'Navdeep', 'navdeep']"
      ]
     },
     "execution_count": 76,
     "metadata": {},
     "output_type": "execute_result"
    }
   ],
   "source": [
    "# sort() arrange the list\n",
    "lst1= ['NAVDEEP','navdeep','Navdeep','NavDeep']\n",
    "lst1.sort()\n",
    "lst1"
   ]
  },
  {
   "cell_type": "code",
   "execution_count": 79,
   "id": "041a9b29",
   "metadata": {},
   "outputs": [],
   "source": [
    "# insert() use to append value using index number without replacing the elements present on that index number\n",
    "lst=[1,'Navdeep',True,'Learn AI']\n",
    "lst.insert(2,'Mehta')"
   ]
  },
  {
   "cell_type": "code",
   "execution_count": 80,
   "id": "d7b472c6",
   "metadata": {},
   "outputs": [
    {
     "data": {
      "text/plain": [
       "[1, 'Navdeep', 'Mehta', True, 'Learn AI']"
      ]
     },
     "execution_count": 80,
     "metadata": {},
     "output_type": "execute_result"
    }
   ],
   "source": [
    "lst"
   ]
  },
  {
   "cell_type": "code",
   "execution_count": 4,
   "id": "ec715a1a",
   "metadata": {},
   "outputs": [
    {
     "data": {
      "text/plain": [
       "'NavDeep'"
      ]
     },
     "execution_count": 4,
     "metadata": {},
     "output_type": "execute_result"
    }
   ],
   "source": [
    "lst1= ['NAVDEEP','NavDeep']\n",
    "max(lst1)"
   ]
  },
  {
   "cell_type": "code",
   "execution_count": null,
   "id": "fafaa493",
   "metadata": {},
   "outputs": [],
   "source": [
    "lst=[\"AAa\",'a']\n",
    "max(lst)"
   ]
  }
 ],
 "metadata": {
  "kernelspec": {
   "display_name": "Python 3",
   "language": "python",
   "name": "python3"
  },
  "language_info": {
   "codemirror_mode": {
    "name": "ipython",
    "version": 3
   },
   "file_extension": ".py",
   "mimetype": "text/x-python",
   "name": "python",
   "nbconvert_exporter": "python",
   "pygments_lexer": "ipython3",
   "version": "3.8.8"
  }
 },
 "nbformat": 4,
 "nbformat_minor": 5
}
