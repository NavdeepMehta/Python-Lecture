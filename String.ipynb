{
 "cells": [
  {
   "cell_type": "code",
   "execution_count": 6,
   "id": "37dc0200",
   "metadata": {},
   "outputs": [],
   "source": [
    "my_string='This is Navdeep Mehta'"
   ]
  },
  {
   "cell_type": "code",
   "execution_count": 7,
   "id": "bf31f45d",
   "metadata": {},
   "outputs": [
    {
     "data": {
      "text/plain": [
       "'this is navdeep mehta'"
      ]
     },
     "execution_count": 7,
     "metadata": {},
     "output_type": "execute_result"
    }
   ],
   "source": [
    "# lower() the sring\n",
    "my_string.lower()"
   ]
  },
  {
   "cell_type": "code",
   "execution_count": 8,
   "id": "7b3cc14a",
   "metadata": {},
   "outputs": [
    {
     "data": {
      "text/plain": [
       "'This is Navdeep Mehta'"
      ]
     },
     "execution_count": 8,
     "metadata": {},
     "output_type": "execute_result"
    }
   ],
   "source": [
    "my_string"
   ]
  },
  {
   "cell_type": "code",
   "execution_count": 9,
   "id": "fbe7b66f",
   "metadata": {},
   "outputs": [
    {
     "data": {
      "text/plain": [
       "'THIS IS NAVDEEP MEHTA'"
      ]
     },
     "execution_count": 9,
     "metadata": {},
     "output_type": "execute_result"
    }
   ],
   "source": [
    "# upper() the sring\n",
    "my_string.upper()"
   ]
  },
  {
   "cell_type": "code",
   "execution_count": 10,
   "id": "893c9429",
   "metadata": {},
   "outputs": [
    {
     "data": {
      "text/plain": [
       "'This is Navdeep Mehta'"
      ]
     },
     "execution_count": 10,
     "metadata": {},
     "output_type": "execute_result"
    }
   ],
   "source": [
    "my_string"
   ]
  },
  {
   "cell_type": "code",
   "execution_count": 11,
   "id": "89713b11",
   "metadata": {},
   "outputs": [
    {
     "data": {
      "text/plain": [
       "'this is navdeep mehta'"
      ]
     },
     "execution_count": 11,
     "metadata": {},
     "output_type": "execute_result"
    }
   ],
   "source": [
    "my_string=my_string.lower()\n",
    "my_string"
   ]
  },
  {
   "cell_type": "code",
   "execution_count": 12,
   "id": "df56e91f",
   "metadata": {},
   "outputs": [
    {
     "data": {
      "text/plain": [
       "'This Is Navdeep Mehta'"
      ]
     },
     "execution_count": 12,
     "metadata": {},
     "output_type": "execute_result"
    }
   ],
   "source": [
    "# Captilize first alphabet of Each Word\n",
    "my_string2=my_string[0].upper()\n",
    "j=0\n",
    "for i in my_string:\n",
    "    if j < len(my_string)-1:\n",
    "        if i==\" \":\n",
    "            my_string2 = my_string2 + my_string[j+1].upper()\n",
    "            j=j+1\n",
    "        else:\n",
    "            my_string2 = my_string2 + my_string[j+1].lower()\n",
    "            j=j+1\n",
    "my_string2    "
   ]
  },
  {
   "cell_type": "markdown",
   "id": "05ba065e",
   "metadata": {},
   "source": [
    "### Call String Value using Index Number"
   ]
  },
  {
   "cell_type": "code",
   "execution_count": 13,
   "id": "2fbd607e",
   "metadata": {},
   "outputs": [
    {
     "data": {
      "text/plain": [
       "'T'"
      ]
     },
     "execution_count": 13,
     "metadata": {},
     "output_type": "execute_result"
    }
   ],
   "source": [
    "# First letter\n",
    "my_string2[0]"
   ]
  },
  {
   "cell_type": "code",
   "execution_count": 14,
   "id": "5540bded",
   "metadata": {},
   "outputs": [
    {
     "data": {
      "text/plain": [
       "'a'"
      ]
     },
     "execution_count": 14,
     "metadata": {},
     "output_type": "execute_result"
    }
   ],
   "source": [
    "# Last Letter\n",
    "my_string2[-1]"
   ]
  },
  {
   "cell_type": "code",
   "execution_count": 15,
   "id": "2e63f7e7",
   "metadata": {},
   "outputs": [
    {
     "data": {
      "text/plain": [
       "'vdeep Meht'"
      ]
     },
     "execution_count": 15,
     "metadata": {},
     "output_type": "execute_result"
    }
   ],
   "source": [
    "# Between a Range\n",
    "my_string2[10:20]"
   ]
  },
  {
   "cell_type": "code",
   "execution_count": 16,
   "id": "d57eae75",
   "metadata": {},
   "outputs": [
    {
     "data": {
      "text/plain": [
       "'atheM peedvaN sI sihT'"
      ]
     },
     "execution_count": 16,
     "metadata": {},
     "output_type": "execute_result"
    }
   ],
   "source": [
    "#Reverse String\n",
    "my_string2[::-1]\n",
    "# start at the end of the string and end at position 0, move with the step -1, negative one, which means one step backwards."
   ]
  },
  {
   "cell_type": "code",
   "execution_count": 17,
   "id": "07951d46",
   "metadata": {},
   "outputs": [
    {
     "data": {
      "text/plain": [
       "'atheM peedvaN sI sihT'"
      ]
     },
     "execution_count": 17,
     "metadata": {},
     "output_type": "execute_result"
    }
   ],
   "source": [
    "my_string2[-1:-len(my_string2)-1:-1]"
   ]
  },
  {
   "cell_type": "code",
   "execution_count": 18,
   "id": "9a0ff95c",
   "metadata": {},
   "outputs": [
    {
     "data": {
      "text/plain": [
       "'Ohis Is Navdeep Mehta'"
      ]
     },
     "execution_count": 18,
     "metadata": {},
     "output_type": "execute_result"
    }
   ],
   "source": [
    "# Replace() of string\n",
    "my_string2.replace('T', 'O')"
   ]
  },
  {
   "cell_type": "code",
   "execution_count": 20,
   "id": "bd34084d",
   "metadata": {},
   "outputs": [
    {
     "data": {
      "text/plain": [
       "'vdOOp'"
      ]
     },
     "execution_count": 20,
     "metadata": {},
     "output_type": "execute_result"
    }
   ],
   "source": [
    "my_string2.replace('e', 'O')[10:15]"
   ]
  },
  {
   "cell_type": "code",
   "execution_count": 23,
   "id": "15a55f44",
   "metadata": {},
   "outputs": [
    {
     "data": {
      "text/plain": [
       "1"
      ]
     },
     "execution_count": 23,
     "metadata": {},
     "output_type": "execute_result"
    }
   ],
   "source": [
    "# count() of string\n",
    "my_string2.count('i')"
   ]
  },
  {
   "cell_type": "code",
   "execution_count": 22,
   "id": "99467496",
   "metadata": {},
   "outputs": [
    {
     "data": {
      "text/plain": [
       "2"
      ]
     },
     "execution_count": 22,
     "metadata": {},
     "output_type": "execute_result"
    }
   ],
   "source": [
    "my_string2.lower().count('i')"
   ]
  },
  {
   "cell_type": "code",
   "execution_count": 24,
   "id": "1c4c4a64",
   "metadata": {},
   "outputs": [
    {
     "name": "stdout",
     "output_type": "stream",
     "text": [
      "Enter a word you want to findE\n"
     ]
    },
    {
     "data": {
      "text/plain": [
       "3"
      ]
     },
     "execution_count": 24,
     "metadata": {},
     "output_type": "execute_result"
    }
   ],
   "source": [
    "x=input('Enter a word you want to find')\n",
    "x=x.lower()\n",
    "my_string2.lower().count(x)"
   ]
  },
  {
   "cell_type": "code",
   "execution_count": 33,
   "id": "aee5be57",
   "metadata": {},
   "outputs": [
    {
     "data": {
      "text/plain": [
       "8"
      ]
     },
     "execution_count": 33,
     "metadata": {},
     "output_type": "execute_result"
    }
   ],
   "source": [
    "# find() of string\n",
    "my_string2.find('Nav')"
   ]
  },
  {
   "cell_type": "code",
   "execution_count": 34,
   "id": "415db017",
   "metadata": {},
   "outputs": [
    {
     "data": {
      "text/plain": [
       "9"
      ]
     },
     "execution_count": 34,
     "metadata": {},
     "output_type": "execute_result"
    }
   ],
   "source": [
    "my_string2.find('a')"
   ]
  },
  {
   "cell_type": "code",
   "execution_count": 35,
   "id": "097c1ac6",
   "metadata": {},
   "outputs": [
    {
     "data": {
      "text/plain": [
       "'This Is Navdeep Mehta'"
      ]
     },
     "execution_count": 35,
     "metadata": {},
     "output_type": "execute_result"
    }
   ],
   "source": [
    "my_string2"
   ]
  },
  {
   "cell_type": "code",
   "execution_count": 39,
   "id": "a7ce5381",
   "metadata": {},
   "outputs": [
    {
     "name": "stdout",
     "output_type": "stream",
     "text": [
      "0\n"
     ]
    }
   ],
   "source": [
    "#To know at which which index number a particular char is present.\n",
    "j=0\n",
    "for i in my_string2:\n",
    "    if i == 'T':\n",
    "        print(j)\n",
    "    j=j+1"
   ]
  },
  {
   "cell_type": "code",
   "execution_count": 40,
   "id": "18f534a6",
   "metadata": {},
   "outputs": [
    {
     "name": "stdout",
     "output_type": "stream",
     "text": [
      "0\n",
      "19\n"
     ]
    }
   ],
   "source": [
    "#To know at which which index number a particular char is present.\n",
    "j=0\n",
    "for i in my_string2.upper():\n",
    "    if i == 'T':\n",
    "        print(j)\n",
    "    j=j+1"
   ]
  },
  {
   "cell_type": "code",
   "execution_count": 38,
   "id": "2e7875e2",
   "metadata": {},
   "outputs": [
    {
     "name": "stdout",
     "output_type": "stream",
     "text": [
      "0\n",
      "19\n"
     ]
    }
   ],
   "source": [
    "j=0\n",
    "for i in my_string:\n",
    "    if i == 'T' or i=='t':\n",
    "        print(j)\n",
    "    j=j+1"
   ]
  },
  {
   "cell_type": "code",
   "execution_count": 46,
   "id": "a3675bf8",
   "metadata": {},
   "outputs": [
    {
     "data": {
      "text/plain": [
       "['TH', 'S ', 'S NAVDEEP MEHTA']"
      ]
     },
     "execution_count": 46,
     "metadata": {},
     "output_type": "execute_result"
    }
   ],
   "source": [
    "# split() for string\n",
    "my_string2.upper().split(\"I\")"
   ]
  },
  {
   "cell_type": "code",
   "execution_count": 42,
   "id": "354be773",
   "metadata": {},
   "outputs": [
    {
     "data": {
      "text/plain": [
       "list"
      ]
     },
     "execution_count": 42,
     "metadata": {},
     "output_type": "execute_result"
    }
   ],
   "source": [
    "type(my_string2.split(\" \"))"
   ]
  },
  {
   "cell_type": "code",
   "execution_count": null,
   "id": "a77bfa97",
   "metadata": {},
   "outputs": [],
   "source": []
  }
 ],
 "metadata": {
  "kernelspec": {
   "display_name": "Python 3",
   "language": "python",
   "name": "python3"
  },
  "language_info": {
   "codemirror_mode": {
    "name": "ipython",
    "version": 3
   },
   "file_extension": ".py",
   "mimetype": "text/x-python",
   "name": "python",
   "nbconvert_exporter": "python",
   "pygments_lexer": "ipython3",
   "version": "3.8.8"
  }
 },
 "nbformat": 4,
 "nbformat_minor": 5
}
