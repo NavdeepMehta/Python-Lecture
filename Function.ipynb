{
 "cells": [
  {
   "cell_type": "markdown",
   "id": "52418854",
   "metadata": {},
   "source": [
    "#### Doing a task in multiple task\n",
    "#### It is a block code that perform different different task to complete a patricular task\n",
    "#### 'def function_name (argument pass)' used to define function where def is keyword."
   ]
  },
  {
   "cell_type": "code",
   "execution_count": 82,
   "id": "fe41f558",
   "metadata": {},
   "outputs": [],
   "source": [
    "#3-Function one is use to Enter two Number \n",
    "def enter_two_number():\n",
    "    a=int(input('Enter First Number'))\n",
    "    b=int(input('Enter Seconf Number'))\n",
    "    return a\n",
    "    return b "
   ]
  },
  {
   "cell_type": "code",
   "execution_count": 83,
   "id": "05100cf1",
   "metadata": {},
   "outputs": [],
   "source": [
    "def add(a,b):\n",
    "    sum1 =  a+b\n",
    "    return sum1 "
   ]
  },
  {
   "cell_type": "code",
   "execution_count": null,
   "id": "4c57e37f",
   "metadata": {},
   "outputs": [],
   "source": [
    "add(enter_two_number())"
   ]
  },
  {
   "cell_type": "code",
   "execution_count": 79,
   "id": "30fa8349",
   "metadata": {},
   "outputs": [
    {
     "name": "stdout",
     "output_type": "stream",
     "text": [
      "Enter First Number54\n",
      "Enter Seconf Number65\n"
     ]
    },
    {
     "data": {
      "text/plain": [
       "(54, 65)"
      ]
     },
     "execution_count": 79,
     "metadata": {},
     "output_type": "execute_result"
    }
   ],
   "source": [
    "enter_two_number()"
   ]
  },
  {
   "cell_type": "code",
   "execution_count": null,
   "id": "44fe846e",
   "metadata": {},
   "outputs": [],
   "source": []
  }
 ],
 "metadata": {
  "kernelspec": {
   "display_name": "Python 3",
   "language": "python",
   "name": "python3"
  },
  "language_info": {
   "codemirror_mode": {
    "name": "ipython",
    "version": 3
   },
   "file_extension": ".py",
   "mimetype": "text/x-python",
   "name": "python",
   "nbconvert_exporter": "python",
   "pygments_lexer": "ipython3",
   "version": "3.8.8"
  }
 },
 "nbformat": 4,
 "nbformat_minor": 5
}
